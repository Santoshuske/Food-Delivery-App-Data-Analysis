{
  "nbformat": 4,
  "nbformat_minor": 0,
  "metadata": {
    "colab": {
      "provenance": [],
      "authorship_tag": "ABX9TyN/yYv679f0gls7NZqdfiii",
      "include_colab_link": true
    },
    "kernelspec": {
      "name": "python3",
      "display_name": "Python 3"
    },
    "language_info": {
      "name": "python"
    }
  },
  "cells": [
    {
      "cell_type": "markdown",
      "metadata": {
        "id": "view-in-github",
        "colab_type": "text"
      },
      "source": [
        "<a href=\"https://colab.research.google.com/github/Santoshuske/Food-Delivery-App-Data-Analysis/blob/main/Food_Data_Analysis.ipynb\" target=\"_parent\"><img src=\"https://colab.research.google.com/assets/colab-badge.svg\" alt=\"Open In Colab\"/></a>"
      ]
    },
    {
      "cell_type": "code",
      "execution_count": 1,
      "metadata": {
        "id": "suuSPcTzZYgd"
      },
      "outputs": [],
      "source": [
        "import pandas as pd\n",
        "import re\n",
        "import numpy as np"
      ]
    },
    {
      "cell_type": "code",
      "source": [
        "def read_data_from_csv():\n",
        "    hotels=pd.read_csv('zomato.csv')\n",
        "    return hotels"
      ],
      "metadata": {
        "id": "iIOUFCOfZcS4"
      },
      "execution_count": 2,
      "outputs": []
    },
    {
      "cell_type": "code",
      "source": [
        "def remove_unwanted_columns():\n",
        "    #DO NOT REMOVE FOLLOWING LINE\n",
        "    #call read_data_from_csv() function to get dataframe\n",
        "    hotels=read_data_from_csv()\n",
        "    hotels= hotels.drop(['address','phone'], axis=1)\n",
        "    # hotels = hotels.reset_index().rename(columns={'index': 'Id'})\n",
        "    return hotels"
      ],
      "metadata": {
        "id": "gEy8grjsZe43"
      },
      "execution_count": 3,
      "outputs": []
    },
    {
      "cell_type": "code",
      "source": [
        "def rename_columns():\n",
        "    #DO NOT REMOVE FOLLOWING LINE\n",
        "    #call remove_unwanted_columns() function to get dataframe\n",
        "    hotels = remove_unwanted_columns()\n",
        "    hotels= hotels.rename(columns={'rate':'rating','approx_cost(for two people)':'approx_cost','listed_in(type)':'type'})\n",
        "    return hotels"
      ],
      "metadata": {
        "id": "fbxQEY32Zh0E"
      },
      "execution_count": 4,
      "outputs": []
    },
    {
      "cell_type": "code",
      "source": [
        "#task3: handle  null values of each column\n",
        "def null_value_check():\n",
        "    #DO NOT REMOVE FOLLOWING LINE\n",
        "    #call rename_columns() function to get dataframe\n",
        "    hotels=rename_columns()\n",
        "    \n",
        "    #deleting null values of name column\n",
        "    hotels=hotels.dropna(subset=['name'])\n",
        "    #handling null values of online_order\n",
        "    hotels['online_order'].fillna('NA',inplace=True)\n",
        "    #handling null values of book_table\n",
        "    hotels['book_table'].fillna('NA',inplace=True) #NaN\n",
        "    #handling null values of rating\n",
        "    \n",
        "    hotels['rating'].fillna(0,inplace=True)\n",
        "  \n",
        "    #handling null values of votes\n",
        "    hotels['votes'].fillna(0,inplace=True)\n",
        "    #handling null values of location\n",
        "    hotels['location'].fillna('NA',inplace=True)\n",
        "    #handling null values of rest_type\n",
        "    hotels['rest_type'].fillna('NA',inplace=True)\n",
        "    #handling null values of dishliked\n",
        "    #hotels['dish_liked'].fillna(method='ffill', inplace=True)\n",
        "    hotels['dish_liked'].fillna('NA',inplace=True)\n",
        "    # hotels=hotels.dropna(subset=['dish_liked'])\n",
        "    #handling null values of cuisines\n",
        "    hotels['cuisines'].fillna('0',inplace=True)\n",
        "    #handling null values of approxcost\n",
        "    hotels['approx_cost'].fillna(0,inplace=True)\n",
        "    #handling null values of type\n",
        "    hotels['type'].fillna('NA',inplace=True)\n",
        "    \n",
        "    return hotels"
      ],
      "metadata": {
        "id": "YY-6Qgvg54YI"
      },
      "execution_count": 6,
      "outputs": []
    },
    {
      "cell_type": "code",
      "source": [
        "def find_duplicates():\n",
        "    #DO NOT REMOVE FOLLOWING LINE\n",
        "    #call null_value_check() function to get dataframe\n",
        "    hotels=null_value_check()\n",
        "    \n",
        "    #droping the duplicates value keeping the first\n",
        "    # Drop duplicates in DataFrame and keep first occurrence\n",
        "    hotels.drop_duplicates(keep='first', inplace=True)\n",
        "    return hotels"
      ],
      "metadata": {
        "id": "Jm8ePtIJfmbc"
      },
      "execution_count": 7,
      "outputs": []
    },
    {
      "cell_type": "code",
      "source": [
        "def removing_irrelevant_text():\n",
        "    #DO NOT REMOVE FOLLOWING LINE\n",
        "    #call find_duplicates() function to get dataframe\n",
        "    hotels= find_duplicates()\n",
        "\n",
        "    hotels=hotels[hotels['name'].str.contains('RATED|Rated')==False]\n",
        "    hotels=hotels[hotels['online_order'].str.contains('RATED|Rated')==False]\n",
        "    hotels=hotels[hotels['book_table'].str.contains('RATED|Rated')==False]\n",
        "    hotels=hotels[hotels['rating'].str.contains('RATED|Rated')==False]\n",
        "    hotels=hotels[hotels['votes'].str.contains('RATED|Rated')==False]\n",
        "    # hotels['votes']=hotels[hotels['votes'].astype(int) != 0]\n",
        "    hotels=hotels[hotels['location'].str.contains('RATED|Rated')==False]\n",
        "    hotels=hotels[hotels['rest_type'].str.contains('RATED|Rated')==False]\n",
        "    hotels=hotels[hotels['dish_liked'].str.contains('RATED|Rated')==False]\n",
        "    hotels=hotels[hotels['cuisines'].str.contains('RATED|Rated')==False]\n",
        "    hotels=hotels[hotels['approx_cost'].str.contains('RATED|Rated')==False]\n",
        "    hotels=hotels[hotels['type'].str.contains('RATED|Rated')==False]\n",
        "    \n",
        "\n",
        "    return hotels"
      ],
      "metadata": {
        "id": "kKQv1mtxfYuT"
      },
      "execution_count": 8,
      "outputs": []
    },
    {
      "cell_type": "code",
      "source": [
        "data=removing_irrelevant_text()"
      ],
      "metadata": {
        "id": "NZywSeOkzHWs"
      },
      "execution_count": null,
      "outputs": []
    },
    {
      "cell_type": "code",
      "source": [
        "#task6 check for unique values\n",
        "def check_for_unique_values():\n",
        "    #DO NOT REMOVE FOLLOWING LINE\n",
        "    #call removing_irrelevant_text() function to get dataframe\n",
        "    hotels=removing_irrelevant_text()\n",
        "    hotels=hotels[hotels['online_order'].isin(['Yes', 'No'])]\n",
        "    hotels['rating']=hotels['rating'].str.split('/').str[0]\n",
        "    hotels['rating'] = hotels['rating'].replace('-', 0)\n",
        "    hotels['rating'] = hotels['rating'].replace('NEW', 0)\n",
        "    # hotels['rating'] = pd.to_numeric(hotels['rating'], errors='coerce')\n",
        "  \n",
        "    return hotels"
      ],
      "metadata": {
        "id": "O8TvkomnRxzF"
      },
      "execution_count": 9,
      "outputs": []
    },
    {
      "cell_type": "code",
      "source": [
        "# # #task7: remove the unknown character from the dataset and export it to \"zomatocleaned.csv\"\n",
        "def remove_the_unknown_character():\n",
        "    #DO NOT REMOVE FOLLOWING LINE\n",
        "    #call check_for_unique_values() function to get dataframe\n",
        "    dataframe=check_for_unique_values()\n",
        "    dataframe['name']=dataframe['name'].str.replace('[Ãƒx][^A-Za-z]+','',regex=True)\n",
        "    \n",
        "\n",
        "    dataframe.to_csv('zomatocleaned1.csv')\n",
        "    return dataframe\n"
      ],
      "metadata": {
        "id": "WHtaddsjWbc2"
      },
      "execution_count": 12,
      "outputs": []
    }
  ]
}